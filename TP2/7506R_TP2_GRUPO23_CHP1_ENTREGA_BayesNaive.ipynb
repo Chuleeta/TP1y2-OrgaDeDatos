{
 "cells": [
  {
   "cell_type": "code",
   "execution_count": 1,
   "metadata": {},
   "outputs": [
    {
     "data": {
      "text/html": [
       "<div>\n",
       "<style scoped>\n",
       "    .dataframe tbody tr th:only-of-type {\n",
       "        vertical-align: middle;\n",
       "    }\n",
       "\n",
       "    .dataframe tbody tr th {\n",
       "        vertical-align: top;\n",
       "    }\n",
       "\n",
       "    .dataframe thead th {\n",
       "        text-align: right;\n",
       "    }\n",
       "</style>\n",
       "<table border=\"1\" class=\"dataframe\">\n",
       "  <thead>\n",
       "    <tr style=\"text-align: right;\">\n",
       "      <th></th>\n",
       "      <th>ID</th>\n",
       "      <th>review_es</th>\n",
       "      <th>sentimiento</th>\n",
       "    </tr>\n",
       "  </thead>\n",
       "  <tbody>\n",
       "    <tr>\n",
       "      <th>0</th>\n",
       "      <td>0</td>\n",
       "      <td>Uno de los otros críticos ha mencionado que de...</td>\n",
       "      <td>positivo</td>\n",
       "    </tr>\n",
       "    <tr>\n",
       "      <th>1</th>\n",
       "      <td>1</td>\n",
       "      <td>Una pequeña pequeña producción.La técnica de f...</td>\n",
       "      <td>positivo</td>\n",
       "    </tr>\n",
       "    <tr>\n",
       "      <th>2</th>\n",
       "      <td>2</td>\n",
       "      <td>Pensé que esta era una manera maravillosa de p...</td>\n",
       "      <td>positivo</td>\n",
       "    </tr>\n",
       "    <tr>\n",
       "      <th>3</th>\n",
       "      <td>3</td>\n",
       "      <td>Básicamente, hay una familia donde un niño peq...</td>\n",
       "      <td>negativo</td>\n",
       "    </tr>\n",
       "    <tr>\n",
       "      <th>4</th>\n",
       "      <td>4</td>\n",
       "      <td>El \"amor en el tiempo\" de Petter Mattei es una...</td>\n",
       "      <td>positivo</td>\n",
       "    </tr>\n",
       "    <tr>\n",
       "      <th>5</th>\n",
       "      <td>5</td>\n",
       "      <td>Probablemente mi película favorita de todos lo...</td>\n",
       "      <td>positivo</td>\n",
       "    </tr>\n",
       "    <tr>\n",
       "      <th>6</th>\n",
       "      <td>6</td>\n",
       "      <td>Seguro que me gustaría ver una resurrección de...</td>\n",
       "      <td>positivo</td>\n",
       "    </tr>\n",
       "    <tr>\n",
       "      <th>7</th>\n",
       "      <td>7</td>\n",
       "      <td>Este espectáculo fue una idea increíble, fresc...</td>\n",
       "      <td>negativo</td>\n",
       "    </tr>\n",
       "    <tr>\n",
       "      <th>8</th>\n",
       "      <td>8</td>\n",
       "      <td>Alentados por los comentarios positivos sobre ...</td>\n",
       "      <td>negativo</td>\n",
       "    </tr>\n",
       "    <tr>\n",
       "      <th>9</th>\n",
       "      <td>9</td>\n",
       "      <td>Si te gusta la risa original desgarradora, te ...</td>\n",
       "      <td>positivo</td>\n",
       "    </tr>\n",
       "  </tbody>\n",
       "</table>\n",
       "</div>"
      ],
      "text/plain": [
       "   ID                                          review_es sentimiento\n",
       "0   0  Uno de los otros críticos ha mencionado que de...    positivo\n",
       "1   1  Una pequeña pequeña producción.La técnica de f...    positivo\n",
       "2   2  Pensé que esta era una manera maravillosa de p...    positivo\n",
       "3   3  Básicamente, hay una familia donde un niño peq...    negativo\n",
       "4   4  El \"amor en el tiempo\" de Petter Mattei es una...    positivo\n",
       "5   5  Probablemente mi película favorita de todos lo...    positivo\n",
       "6   6  Seguro que me gustaría ver una resurrección de...    positivo\n",
       "7   7  Este espectáculo fue una idea increíble, fresc...    negativo\n",
       "8   8  Alentados por los comentarios positivos sobre ...    negativo\n",
       "9   9  Si te gusta la risa original desgarradora, te ...    positivo"
      ]
     },
     "execution_count": 1,
     "metadata": {},
     "output_type": "execute_result"
    }
   ],
   "source": [
    "import pandas as pd\n",
    "import numpy as np\n",
    "import matplotlib.pyplot as plt\n",
    "from sklearn.model_selection import train_test_split\n",
    "from sklearn.feature_extraction.text import CountVectorizer, TfidfTransformer\n",
    "\n",
    "df = pd.read_csv('./train.csv')\n",
    "\n",
    "df.head(10)"
   ]
  },
  {
   "cell_type": "code",
   "execution_count": 2,
   "metadata": {},
   "outputs": [
    {
     "data": {
      "text/plain": [
       "Text(0.5, 1.0, 'Porcentaje en sentimiento')"
      ]
     },
     "execution_count": 2,
     "metadata": {},
     "output_type": "execute_result"
    },
    {
     "data": {
      "image/png": "[encoded data removed]",
      "text/plain": [
       "<Figure size 640x480 with 1 Axes>"
      ]
     },
     "metadata": {},
     "output_type": "display_data"
    }
   ],
   "source": [
    "df_porcentaje = df['sentimiento'].value_counts(normalize=True)*100\n",
    "\n",
    "df_porcentaje.plot(kind='bar',color=[(0,1,0),(1,0,0)])\n",
    "plt.ylabel(\"Porcentaje de criticas\")\n",
    "plt.xlabel(\"Sentimiento\")\n",
    "plt.title(\"Porcentaje en sentimiento\")"
   ]
  },
  {
   "cell_type": "code",
   "execution_count": 3,
   "metadata": {},
   "outputs": [
    {
     "data": {
      "image/png": "[encoded data removed]",
      "text/plain": [
       "<Figure size 640x480 with 1 Axes>"
      ]
     },
     "metadata": {},
     "output_type": "display_data"
    }
   ],
   "source": [
    "df['num_palabras'] = df['review_es'].str.split().apply(len)\n",
    "plt.scatter(df['sentimiento'], df['num_palabras'])\n",
    "plt.xlabel('Cantidad de palabras')\n",
    "plt.ylabel('Sentimiento')\n",
    "plt.title('La cantidad de palabras en relacion al sentimiento')\n",
    "plt.show()"
   ]
  },
  {
   "cell_type": "code",
   "execution_count": 4,
   "metadata": {},
   "outputs": [
    {
     "data": {
      "text/plain": [
       "0        Uno de los otros críticos ha mencionado que de...\n",
       "1        Una pequeña pequeña producción.La técnica de f...\n",
       "2        Pensé que esta era una manera maravillosa de p...\n",
       "3        Básicamente, hay una familia donde un niño peq...\n",
       "4        El \"amor en el tiempo\" de Petter Mattei es una...\n",
       "                               ...                        \n",
       "49995    Pensé que esta película hizo un buen trabajo a...\n",
       "49996    Mala parcela, mal diálogo, mala actuación, dir...\n",
       "49997    Soy católica enseñada en escuelas primarias pa...\n",
       "49998    Voy a tener que estar en desacuerdo con el com...\n",
       "49999    Nadie espera que las películas de Star Trek se...\n",
       "Name: review_es, Length: 50000, dtype: object"
      ]
     },
     "execution_count": 4,
     "metadata": {},
     "output_type": "execute_result"
    }
   ],
   "source": [
    "df.review_es"
   ]
  },
  {
   "cell_type": "code",
   "execution_count": 5,
   "metadata": {},
   "outputs": [
    {
     "name": "stdout",
     "output_type": "stream",
     "text": [
      "Requirement already satisfied: nltk in c:\\users\\lucas\\appdata\\local\\programs\\python\\python310\\lib\\site-packages (3.8.1)\n",
      "Requirement already satisfied: click in c:\\users\\lucas\\appdata\\local\\programs\\python\\python310\\lib\\site-packages (from nltk) (8.1.3)\n",
      "Requirement already satisfied: joblib in c:\\users\\lucas\\appdata\\local\\programs\\python\\python310\\lib\\site-packages (from nltk) (1.2.0)\n",
      "Requirement already satisfied: regex>=2021.8.3 in c:\\users\\lucas\\appdata\\local\\programs\\python\\python310\\lib\\site-packages (from nltk) (2023.5.5)\n",
      "Requirement already satisfied: tqdm in c:\\users\\lucas\\appdata\\local\\programs\\python\\python310\\lib\\site-packages (from nltk) (4.65.0)\n",
      "Requirement already satisfied: colorama in c:\\users\\lucas\\appdata\\local\\programs\\python\\python310\\lib\\site-packages (from click->nltk) (0.4.6)\n"
     ]
    }
   ],
   "source": [
    "!pip install nltk"
   ]
  },
  {
   "cell_type": "code",
   "execution_count": 6,
   "metadata": {},
   "outputs": [],
   "source": [
    "#Data Preprocessing\n",
    "X_train, X_test, y_train, y_test = train_test_split(df.review_es, \n",
    "                                                    df.sentimiento,\n",
    "                                                    test_size=0.30,\n",
    "                                                    random_state=25,\n",
    "                                                    shuffle=True)"
   ]
  },
  {
   "cell_type": "code",
   "execution_count": 7,
   "metadata": {},
   "outputs": [
    {
     "name": "stderr",
     "output_type": "stream",
     "text": [
      "[nltk_data] Downloading package punkt to\n",
      "[nltk_data]     C:\\Users\\LUCAS\\AppData\\Roaming\\nltk_data...\n",
      "[nltk_data]   Package punkt is already up-to-date!\n",
      "[nltk_data] Downloading package stopwords to\n",
      "[nltk_data]     C:\\Users\\LUCAS\\AppData\\Roaming\\nltk_data...\n",
      "[nltk_data]   Package stopwords is already up-to-date!\n"
     ]
    },
    {
     "name": "stdout",
     "output_type": "stream",
     "text": [
      "Tamaño de la matriz de características: (1000, 3325)\n"
     ]
    }
   ],
   "source": [
    "import pandas as pd\n",
    "import nltk\n",
    "from nltk.stem import SnowballStemmer\n",
    "from sklearn.feature_extraction.text import CountVectorizer\n",
    "from sklearn.feature_extraction.text import TfidfVectorizer\n",
    "from sklearn.utils import shuffle\n",
    "\n",
    "# Descargar recursos adicionales de NLTK\n",
    "nltk.download('punkt')\n",
    "nltk.download('stopwords')\n",
    "\n",
    "# Muestreo aleatorio\n",
    "df = shuffle(df).sample(n=1000, random_state=42)  # Muestra aleatoria de 1000 filas\n",
    "\n",
    "# Inicializar stemmer en español\n",
    "stemmer = SnowballStemmer('spanish')\n",
    "\n",
    "# Función para aplicar el stemming a una oración\n",
    "def stem_sentence(sentence):\n",
    "    words = nltk.word_tokenize(sentence)\n",
    "    stemmed_words = [stemmer.stem(word) for word in words]\n",
    "    return ' '.join(stemmed_words)\n",
    "\n",
    "# Aplicar el stemming a la columna df.review_es y guardar en una nueva columna\n",
    "df['stemmed_review'] = df['review_es'].apply(stem_sentence)\n",
    "\n",
    "# CountVectorizer\n",
    "# Eliminación de palabras poco frecuentes\n",
    "vectorizer = CountVectorizer(min_df=5)\n",
    "\n",
    "# Ajustar el vectorizador y obtener la representación Bag of Words (matriz dispersa)\n",
    "X = vectorizer.fit_transform(df['stemmed_review'])\n",
    "\n",
    "#TfidfVectorizer\n",
    "vectorizer = TfidfVectorizer(smooth_idf=True)\n",
    "fid = vectorizer.fit_transform(df['stemmed_review'])\n",
    "\n",
    "# Imprimir el tamaño de la matriz de características\n",
    "print(\"Tamaño de la matriz de características:\", X.shape)\n"
   ]
  },
  {
   "cell_type": "code",
   "execution_count": 8,
   "metadata": {},
   "outputs": [],
   "source": [
    "from sklearn.naive_bayes import MultinomialNB\n",
    "from sklearn.pipeline import make_pipeline\n",
    "from sklearn.metrics import confusion_matrix, accuracy_score\n",
    "\n",
    "# Build the model\n",
    "model = make_pipeline(TfidfVectorizer(), MultinomialNB())\n",
    "model2 = make_pipeline(CountVectorizer(), MultinomialNB())\n",
    "# Train the model using the training data\n",
    "model.fit(X_train, y_train)\n",
    "model2.fit(X_train, y_train)\n",
    "# Predict the categories of the test data\n",
    "predicted_categories = model.predict(X_test)\n",
    "predicted_categories_2 = model2.predict(X_test)"
   ]
  },
  {
   "cell_type": "code",
   "execution_count": 9,
   "metadata": {},
   "outputs": [
    {
     "name": "stdout",
     "output_type": "stream",
     "text": [
      "['positivo' 'positivo' 'positivo' ... 'negativo' 'positivo' 'positivo']\n",
      "['positivo' 'positivo' 'positivo' ... 'negativo' 'positivo' 'positivo']\n"
     ]
    }
   ],
   "source": [
    "print(predicted_categories)\n",
    "print(predicted_categories_2)"
   ]
  },
  {
   "cell_type": "code",
   "execution_count": 10,
   "metadata": {},
   "outputs": [
    {
     "data": {
      "image/png": "[encoded data removed]",
      "text/plain": [
       "<Figure size 640x480 with 2 Axes>"
      ]
     },
     "metadata": {},
     "output_type": "display_data"
    },
    {
     "name": "stdout",
     "output_type": "stream",
     "text": [
      "The accuracy using TfidfVectorizer  is 0.8534666666666667\n",
      "The precision is TfidfVectorizer 0.8534666666666667\n",
      "The accuracy count is  0.8376\n",
      "The precision count is 0.8376\n"
     ]
    }
   ],
   "source": [
    "import numpy as np, pandas as pd\n",
    "import seaborn as sns\n",
    "import matplotlib.pyplot as plt\n",
    "from sklearn.datasets import fetch_20newsgroups\n",
    "from sklearn.feature_extraction.text import TfidfVectorizer\n",
    "from sklearn.naive_bayes import MultinomialNB\n",
    "from sklearn.pipeline import make_pipeline\n",
    "from sklearn.metrics import confusion_matrix, accuracy_score, precision_score\n",
    "sns.set() # use seaborn plotting style\n",
    "\n",
    "# plot the confusion matrix\n",
    "mat = confusion_matrix(y_test, predicted_categories)\n",
    "sns.heatmap(mat.T, square = True, annot=True, fmt = \"d\", xticklabels=\"target_names\",yticklabels=\"train_data\")\n",
    "plt.xlabel(\"true labels\")\n",
    "plt.ylabel(\"predicted label\")\n",
    "plt.show()\n",
    "\n",
    "print(\"The accuracy using TfidfVectorizer  is {}\".format(accuracy_score(y_test, predicted_categories)))\n",
    "print(\"The precision is TfidfVectorizer {}\".format(precision_score(y_test, predicted_categories, average='micro',)))\n",
    "print(\"The accuracy count is  {}\".format(accuracy_score(y_test, predicted_categories_2)))\n",
    "print(\"The precision count is {}\".format(precision_score(y_test, predicted_categories_2, average='micro',)))\n"
   ]
  },
  {
   "attachments": {},
   "cell_type": "markdown",
   "metadata": {},
   "source": [
    "Como TfidfVectorizer  nos dio mejores resultados, usaremos el modelo que lo usa para hacer el predict de kaggle"
   ]
  },
  {
   "attachments": {},
   "cell_type": "markdown",
   "metadata": {},
   "source": [
    "AVERIGUAR BIEN Q ONDA CON TfidfVectorizer y CountVectorizer"
   ]
  },
  {
   "attachments": {},
   "cell_type": "markdown",
   "metadata": {},
   "source": [
    "### Predict de Kaggle"
   ]
  },
  {
   "cell_type": "code",
   "execution_count": 11,
   "metadata": {},
   "outputs": [
    {
     "name": "stdout",
     "output_type": "stream",
     "text": [
      "(8599, 2)\n"
     ]
    }
   ],
   "source": [
    "df_kaggle = pd.read_csv('./test.csv')\n",
    "y_pred_kaggle_cv = model.predict(df_kaggle.review_es)\n",
    "ds_kaggle = pd.DataFrame({'ID': df_kaggle['ID'], 'sentimiento': y_pred_kaggle_cv.ravel()})\n",
    "\n",
    "print(ds_kaggle.shape)\n",
    "ds_kaggle.to_csv('pred_kaggle_Bayes_Naive_2.csv', index=False)"
   ]
  },
  {
   "attachments": {},
   "cell_type": "markdown",
   "metadata": {},
   "source": [
    "### Guardamos el modelo"
   ]
  },
  {
   "cell_type": "code",
   "execution_count": 11,
   "metadata": {},
   "outputs": [
    {
     "data": {
      "text/plain": [
       "['BayesNaive_v2.sav']"
      ]
     },
     "execution_count": 11,
     "metadata": {},
     "output_type": "execute_result"
    }
   ],
   "source": [
    "# Guardar el arbol\n",
    "import joblib\n",
    "filename = 'BayesNaive_v2.sav'\n",
    "joblib.dump(model, filename)"
   ]
  }
 ],
 "metadata": {
  "kernelspec": {
   "display_name": "Python 3",
   "language": "python",
   "name": "python3"
  },
  "language_info": {
   "codemirror_mode": {
    "name": "ipython",
    "version": 3
   },
   "file_extension": ".py",
   "mimetype": "text/x-python",
   "name": "python",
   "nbconvert_exporter": "python",
   "pygments_lexer": "ipython3",
   "version": "3.10.0"
  },
  "orig_nbformat": 4
 },
 "nbformat": 4,
 "nbformat_minor": 2
}
