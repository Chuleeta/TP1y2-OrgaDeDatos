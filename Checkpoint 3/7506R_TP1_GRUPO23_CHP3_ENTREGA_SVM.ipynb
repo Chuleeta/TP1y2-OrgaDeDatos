{
 "cells": [
  {
   "attachments": {},
   "cell_type": "markdown",
   "metadata": {},
   "source": [
    "# SVM"
   ]
  },
  {
   "cell_type": "code",
   "execution_count": 2,
   "metadata": {},
   "outputs": [],
   "source": [
    "import pandas as pd\n",
    "import sklearn as sk\n",
    "import seaborn as sns\n",
    "import matplotlib.pyplot as plt\n",
    "import numpy as np\n",
    "\n",
    "from sklearn.datasets import load_iris\n",
    "from sklearn import preprocessing\n",
    "from sklearn.model_selection import train_test_split\n",
    "from sklearn.svm import SVC\n",
    "from sklearn.datasets import make_classification\n",
    "from sklearn.metrics import confusion_matrix, classification_report"
   ]
  },
  {
   "cell_type": "code",
   "execution_count": 3,
   "metadata": {},
   "outputs": [],
   "source": [
    "def metricas(y_pred,y_test):\n",
    "\n",
    "  print(classification_report(y_test,y_pred))\n",
    "  \n",
    "  cm = confusion_matrix(y_test,y_pred)\n",
    "  sns.heatmap(cm, cmap='Blues',annot=True,fmt='g')\n",
    "  plt.xlabel('Predicted')\n",
    "  plt.ylabel('True')"
   ]
  },
  {
   "cell_type": "code",
   "execution_count": 4,
   "metadata": {},
   "outputs": [],
   "source": [
    "ds_hotels = pd.read_csv(\"./hotels_modificado_train.csv\")\n",
    "ds_h = ds_hotels.copy() "
   ]
  },
  {
   "cell_type": "code",
   "execution_count": 5,
   "metadata": {},
   "outputs": [
    {
     "name": "stdout",
     "output_type": "stream",
     "text": [
      "hotel                             0.0\n",
      "lead_time                         0.0\n",
      "arrival_date_year                 0.0\n",
      "arrival_date_month                0.0\n",
      "arrival_date_week_number          0.0\n",
      "arrival_date_day_of_month         0.0\n",
      "stays_in_weekend_nights           0.0\n",
      "stays_in_week_nights              0.0\n",
      "adults                            0.0\n",
      "children                          0.0\n",
      "babies                            0.0\n",
      "meal                              0.0\n",
      "country                           0.0\n",
      "market_segment                    0.0\n",
      "distribution_channel              0.0\n",
      "is_repeated_guest                 0.0\n",
      "previous_cancellations            0.0\n",
      "previous_bookings_not_canceled    0.0\n",
      "reserved_room_type                0.0\n",
      "assigned_room_type                0.0\n",
      "booking_changes                   0.0\n",
      "deposit_type                      0.0\n",
      "agent                             0.0\n",
      "days_in_waiting_list              0.0\n",
      "customer_type                     0.0\n",
      "adr                               0.0\n",
      "required_car_parking_spaces       0.0\n",
      "total_of_special_requests         0.0\n",
      "is_canceled                       0.0\n",
      "dtype: float64\n"
     ]
    }
   ],
   "source": [
    "def agent_a_string(value):\n",
    "    return str(value)\n",
    "ds_h[\"agent\"] = ds_h[\"agent\"].apply(agent_a_string)\n",
    "ds_h[ds_h.duplicated(\"id\")]\n",
    "ds = ds_h.drop([\"id\"], axis=\"columns\", inplace=False)\n",
    "filas_totales=ds.shape[0]\n",
    "print(ds.isna().sum()/filas_totales*100)"
   ]
  },
  {
   "attachments": {},
   "cell_type": "markdown",
   "metadata": {},
   "source": [
    "### Preprocesamiento de datos y division de estos"
   ]
  },
  {
   "attachments": {},
   "cell_type": "markdown",
   "metadata": {},
   "source": [
    "One Hot Encoding para variables categoricas"
   ]
  },
  {
   "cell_type": "code",
   "execution_count": 6,
   "metadata": {},
   "outputs": [],
   "source": [
    "var_cual = [\"hotel\", \"arrival_date_month\", \"meal\", \"country\", \"market_segment\", \n",
    "\"distribution_channel\", \"reserved_room_type\", \"assigned_room_type\", \"deposit_type\", \"agent\", \n",
    "\"customer_type\"]\n",
    "ds = pd.get_dummies(ds, columns=var_cual, drop_first=True)"
   ]
  },
  {
   "attachments": {},
   "cell_type": "markdown",
   "metadata": {},
   "source": [
    "Divido el Dataset: 70% para train y 20% para test"
   ]
  },
  {
   "cell_type": "code",
   "execution_count": 7,
   "metadata": {},
   "outputs": [],
   "source": [
    "#Creo un dataset con los features que voy a usar para clasificar\n",
    "ds_x=ds.drop(['is_canceled'], axis='columns', inplace=False)\n",
    "\n",
    "#Creo un dataset con la variable target\n",
    "ds_y = ds['is_canceled'].copy()\n",
    "\n",
    "#Genero los conjuntos de train y de test\n",
    "x_train, x_test, y_train, y_test = train_test_split(ds_x,\n",
    "                                                    ds_y, \n",
    "                                                    test_size=0.2,  #proporcion 80/20\n",
    "                                                    random_state=4, #semilla\n",
    "                                                    stratify=ds[\"is_canceled\"].values) "
   ]
  },
  {
   "attachments": {},
   "cell_type": "markdown",
   "metadata": {},
   "source": [
    "### SVM + Normalización de Datos"
   ]
  },
  {
   "cell_type": "code",
   "execution_count": 8,
   "metadata": {},
   "outputs": [],
   "source": [
    "#Armo una version escalada con minmax (media=0 , var=1  )\n",
    "min_max_scaler = preprocessing.MinMaxScaler()\n",
    "x_train_minmax = min_max_scaler.fit_transform(x_train) \n",
    "x_test_minmax  = min_max_scaler.transform(x_test) \n",
    "\n",
    "#Armo una version estandarizada\n",
    "stand_scaler = preprocessing.StandardScaler()\n",
    "x_train_norm = stand_scaler.fit_transform(x_train)\n",
    "x_test_norm=stand_scaler.transform(x_test)"
   ]
  },
  {
   "attachments": {},
   "cell_type": "markdown",
   "metadata": {},
   "source": [
    "#### SVM con datos SIN escalar"
   ]
  },
  {
   "cell_type": "code",
   "execution_count": 8,
   "metadata": {},
   "outputs": [
    {
     "name": "stdout",
     "output_type": "stream",
     "text": [
      "              precision    recall  f1-score   support\n",
      "\n",
      "           0       0.61      1.00      0.76      5506\n",
      "           1       1.00      0.00      0.00      3477\n",
      "\n",
      "    accuracy                           0.61      8983\n",
      "   macro avg       0.81      0.50      0.38      8983\n",
      "weighted avg       0.76      0.61      0.47      8983\n",
      "\n"
     ]
    },
    {
     "data": {
      "image/png": "[encoded data removed]",
      "text/plain": [
       "<Figure size 640x480 with 2 Axes>"
      ]
     },
     "metadata": {},
     "output_type": "display_data"
    }
   ],
   "source": [
    "#Construyo un modelo SVM  \n",
    "svm = SVC()\n",
    "\n",
    "#Lo entreno con los datos sin escalar\n",
    "svm.fit(x_train, y_train)\n",
    "\n",
    "#Hago la prediccion y calculo las métricas\n",
    "y_pred=svm.predict(x_test)\n",
    "metricas(y_pred,y_test)"
   ]
  },
  {
   "attachments": {},
   "cell_type": "markdown",
   "metadata": {},
   "source": [
    "#### SVM con los datos escalados con normalizacion"
   ]
  },
  {
   "cell_type": "code",
   "execution_count": 9,
   "metadata": {},
   "outputs": [
    {
     "name": "stdout",
     "output_type": "stream",
     "text": [
      "              precision    recall  f1-score   support\n",
      "\n",
      "           0       0.82      0.84      0.83      5506\n",
      "           1       0.74      0.70      0.72      3477\n",
      "\n",
      "    accuracy                           0.79      8983\n",
      "   macro avg       0.78      0.77      0.77      8983\n",
      "weighted avg       0.79      0.79      0.79      8983\n",
      "\n"
     ]
    },
    {
     "data": {
      "image/png": "[encoded data removed]",
      "text/plain": [
       "<Figure size 640x480 with 2 Axes>"
      ]
     },
     "metadata": {},
     "output_type": "display_data"
    }
   ],
   "source": [
    "#Construyo un modelo SVM  \n",
    "svm_norm= SVC()\n",
    "\n",
    "#Lo entreno con los datos escalados con normalizacion\n",
    "svm_norm.fit(x_train_norm, y_train)\n",
    "\n",
    "#Hago la prediccion y calculo las métricas\n",
    "y_pred_norm=svm_norm.predict(x_test_norm)\n",
    "metricas(y_pred_norm,y_test)"
   ]
  },
  {
   "attachments": {},
   "cell_type": "markdown",
   "metadata": {},
   "source": [
    "#### SVM con datos escalados con Min Max"
   ]
  },
  {
   "cell_type": "code",
   "execution_count": 10,
   "metadata": {},
   "outputs": [
    {
     "name": "stdout",
     "output_type": "stream",
     "text": [
      "              precision    recall  f1-score   support\n",
      "\n",
      "           0       0.86      0.83      0.84      5506\n",
      "           1       0.75      0.78      0.76      3477\n",
      "\n",
      "    accuracy                           0.81      8983\n",
      "   macro avg       0.80      0.81      0.80      8983\n",
      "weighted avg       0.81      0.81      0.81      8983\n",
      "\n"
     ]
    },
    {
     "data": {
      "image/png": "[encoded data removed]",
      "text/plain": [
       "<Figure size 640x480 with 2 Axes>"
      ]
     },
     "metadata": {},
     "output_type": "display_data"
    }
   ],
   "source": [
    "#Construyo un modelo SVM  \n",
    "svm_minmax= SVC()\n",
    "\n",
    "#Lo entreno con los datos escalados con min max\n",
    "svm_minmax.fit(x_train_minmax, y_train)\n",
    "\n",
    "#Hago la prediccion y calculo las métricas\n",
    "y_pred_minmax=svm_minmax.predict(x_test_minmax)\n",
    "metricas(y_pred_minmax,y_test)"
   ]
  },
  {
   "attachments": {},
   "cell_type": "markdown",
   "metadata": {},
   "source": [
    "### SVM + PCA"
   ]
  },
  {
   "attachments": {},
   "cell_type": "markdown",
   "metadata": {},
   "source": [
    "Escalamos los datos para poder aplicar PCA"
   ]
  },
  {
   "cell_type": "code",
   "execution_count": 11,
   "metadata": {},
   "outputs": [
    {
     "data": {
      "text/plain": [
       "Text(0, 0.5, 'Varianza Explicada (%)')"
      ]
     },
     "execution_count": 11,
     "metadata": {},
     "output_type": "execute_result"
    },
    {
     "data": {
      "image/png": "[encoded data removed]",
      "text/plain": [
       "<Figure size 640x480 with 1 Axes>"
      ]
     },
     "metadata": {},
     "output_type": "display_data"
    }
   ],
   "source": [
    "from sklearn.preprocessing import StandardScaler\n",
    "from sklearn.decomposition import PCA\n",
    "\n",
    "#Escalo los datos de entrenamiento\n",
    "sc = StandardScaler()\n",
    "x_train_scaled = sc.fit_transform(x_train)\n",
    "\n",
    "# PCA sobre los datos escalados\n",
    "pca = PCA(n_components = None)\n",
    "pca.fit(x_train_scaled)\n",
    "\n",
    "#Cantidad de Componentes\n",
    "componentes = len(pca.explained_variance_ratio_) \n",
    "\n",
    "#Grafico la Varianza Explicada \n",
    "plt.plot(range(1,componentes+1), np.cumsum(pca.explained_variance_ratio_ * 100))\n",
    "plt.xlabel(\"Numero de componentes\")\n",
    "plt.ylabel(\"Varianza Explicada (%)\")"
   ]
  },
  {
   "attachments": {},
   "cell_type": "markdown",
   "metadata": {},
   "source": [
    "En el gráfico vemos que con 450 componentes se explica mas del 90% de la variabilidad de los datos. \n",
    "\n",
    "Probemos entrenar una SVM tomando 450 componentes"
   ]
  },
  {
   "cell_type": "code",
   "execution_count": 12,
   "metadata": {},
   "outputs": [
    {
     "name": "stdout",
     "output_type": "stream",
     "text": [
      "              precision    recall  f1-score   support\n",
      "\n",
      "           0       0.81      0.84      0.83      5506\n",
      "           1       0.73      0.68      0.71      3477\n",
      "\n",
      "    accuracy                           0.78      8983\n",
      "   macro avg       0.77      0.76      0.77      8983\n",
      "weighted avg       0.78      0.78      0.78      8983\n",
      "\n"
     ]
    },
    {
     "data": {
      "image/png": "[encoded data removed]",
      "text/plain": [
       "<Figure size 640x480 with 2 Axes>"
      ]
     },
     "metadata": {},
     "output_type": "display_data"
    }
   ],
   "source": [
    "from sklearn.pipeline import Pipeline\n",
    "\n",
    "#Defino el tipo de escalado, la transformacion PCA y el modelo\n",
    "_sc = StandardScaler()\n",
    "_pca = PCA(n_components = 450)\n",
    "_model = SVC()\n",
    "\n",
    "#Creo un pipeline\n",
    "svm_model = Pipeline([\n",
    "    ('std_scaler', _sc),\n",
    "    ('pca', _pca),\n",
    "    ('svm', _model)\n",
    "])\n",
    "\n",
    "#Entreno sobre los datos que serán previamente escalados y transformados\n",
    "svm_model.fit(x_train,y_train)\n",
    "\n",
    "#Hago la predicción y calculo las métricas\n",
    "y_pred_pca=svm_model.predict(x_test)\n",
    "metricas(y_pred_pca,y_test)"
   ]
  },
  {
   "attachments": {},
   "cell_type": "markdown",
   "metadata": {},
   "source": [
    "### SVM - Kernels"
   ]
  },
  {
   "attachments": {},
   "cell_type": "markdown",
   "metadata": {},
   "source": [
    "#### SVM con kernel LINEAL"
   ]
  },
  {
   "cell_type": "code",
   "execution_count": 31,
   "metadata": {},
   "outputs": [
    {
     "name": "stdout",
     "output_type": "stream",
     "text": [
      "              precision    recall  f1-score   support\n",
      "\n",
      "           0       0.79      0.84      0.82      5506\n",
      "           1       0.73      0.65      0.69      3477\n",
      "\n",
      "    accuracy                           0.77      8983\n",
      "   macro avg       0.76      0.75      0.75      8983\n",
      "weighted avg       0.77      0.77      0.77      8983\n",
      "\n"
     ]
    },
    {
     "data": {
      "image/png": "[encoded data removed]",
      "text/plain": [
       "<Figure size 640x480 with 2 Axes>"
      ]
     },
     "metadata": {},
     "output_type": "display_data"
    }
   ],
   "source": [
    "#Creo un clasificador con kernel lineal y lo entreno sobre los datos escalados min-max\n",
    "clf_svm_lineal = SVC(kernel='linear', C=5)\n",
    "clf_svm_lineal.fit(x_train, y_train)\n",
    "\n",
    "#Hago la predicción y calculo las métricas\n",
    "y_pred_lin=clf_svm_lineal.predict(x_test)\n",
    "metricas(y_pred_lin,y_test)"
   ]
  },
  {
   "attachments": {},
   "cell_type": "markdown",
   "metadata": {},
   "source": [
    "Guardo el SVM con Kernel Lineal"
   ]
  },
  {
   "cell_type": "code",
   "execution_count": 32,
   "metadata": {},
   "outputs": [
    {
     "data": {
      "text/plain": [
       "['svm_lineal.sav']"
      ]
     },
     "execution_count": 32,
     "metadata": {},
     "output_type": "execute_result"
    }
   ],
   "source": [
    "# Guardar\n",
    "import joblib\n",
    "filename = 'svm_lineal.sav'\n",
    "joblib.dump(clf_svm_lineal, filename)"
   ]
  },
  {
   "attachments": {},
   "cell_type": "markdown",
   "metadata": {},
   "source": [
    "El predict para kaggle esta hecho más abajo junto con el resto de kernels"
   ]
  },
  {
   "attachments": {},
   "cell_type": "markdown",
   "metadata": {},
   "source": [
    "#### SVM con kernel POLINOMICO"
   ]
  },
  {
   "cell_type": "code",
   "execution_count": 42,
   "metadata": {},
   "outputs": [
    {
     "name": "stderr",
     "output_type": "stream",
     "text": [
      "c:\\Users\\LUCAS\\AppData\\Local\\Programs\\Python\\Python310\\lib\\site-packages\\sklearn\\svm\\_base.py:299: ConvergenceWarning: Solver terminated early (max_iter=2500000).  Consider pre-processing your data with StandardScaler or MinMaxScaler.\n",
      "  warnings.warn(\n"
     ]
    },
    {
     "name": "stdout",
     "output_type": "stream",
     "text": [
      "              precision    recall  f1-score   support\n",
      "\n",
      "           0       0.75      0.63      0.68      5506\n",
      "           1       0.53      0.67      0.59      3477\n",
      "\n",
      "    accuracy                           0.64      8983\n",
      "   macro avg       0.64      0.65      0.64      8983\n",
      "weighted avg       0.67      0.64      0.65      8983\n",
      "\n"
     ]
    },
    {
     "data": {
      "image/png": "[encoded data removed]",
      "text/plain": [
       "<Figure size 640x480 with 2 Axes>"
      ]
     },
     "metadata": {},
     "output_type": "display_data"
    }
   ],
   "source": [
    "#Creo un clasificador con kernel lineal y lo entreno sobre los datos escalados min-max\n",
    "svm_polinomico = SVC(kernel='poly', C=10,degree=15, gamma=15, coef0=15,max_iter=2500000)\n",
    "svm_polinomico.fit(x_train_minmax, y_train)\n",
    "\n",
    "#Hago la predicción y calculo las métricas\n",
    "y_pred_lin=svm_polinomico.predict(x_test_minmax)\n",
    "metricas(y_pred_lin,y_test)"
   ]
  },
  {
   "attachments": {},
   "cell_type": "markdown",
   "metadata": {},
   "source": [
    "Guardamos SVM Polinomico"
   ]
  },
  {
   "cell_type": "code",
   "execution_count": null,
   "metadata": {},
   "outputs": [],
   "source": [
    "# Guardar\n",
    "import joblib\n",
    "filename = 'svm_radial.sav'\n",
    "joblib.dump(svm_polinomico, filename)"
   ]
  },
  {
   "attachments": {},
   "cell_type": "markdown",
   "metadata": {},
   "source": [
    "#### SVM con kernel RADIAL"
   ]
  },
  {
   "cell_type": "code",
   "execution_count": 10,
   "metadata": {},
   "outputs": [
    {
     "name": "stdout",
     "output_type": "stream",
     "text": [
      "              precision    recall  f1-score   support\n",
      "\n",
      "           0       0.61      1.00      0.76      5506\n",
      "           1       0.04      0.00      0.00      3477\n",
      "\n",
      "    accuracy                           0.61      8983\n",
      "   macro avg       0.33      0.50      0.38      8983\n",
      "weighted avg       0.39      0.61      0.46      8983\n",
      "\n"
     ]
    },
    {
     "data": {
      "image/png": "[encoded data removed]",
      "text/plain": [
       "<Figure size 640x480 with 2 Axes>"
      ]
     },
     "metadata": {},
     "output_type": "display_data"
    }
   ],
   "source": [
    "#Creo un clasificador con kernel radial y lo entreno sobre los datos escalados min-max\n",
    "clf = SVC(kernel='rbf', C=5, gamma=10)\n",
    "clf.fit(x_train, y_train)\n",
    "\n",
    "#Hago la predicción y calculo las métricas\n",
    "y_pred_rad=clf.predict(x_test)\n",
    "metricas(y_pred_rad,y_test)"
   ]
  },
  {
   "attachments": {},
   "cell_type": "markdown",
   "metadata": {},
   "source": [
    "### Hacemos el Predict para Kaggle"
   ]
  },
  {
   "attachments": {},
   "cell_type": "markdown",
   "metadata": {},
   "source": [
    "#### Pre Procesamiento de Datos de hotel_test"
   ]
  },
  {
   "cell_type": "code",
   "execution_count": 12,
   "metadata": {},
   "outputs": [],
   "source": [
    "ds_hotels_test = pd.read_csv(\"./hotels_test.csv\")\n",
    "ds_h_test = ds_hotels_test.copy()\n",
    "ds_h_test.drop(columns=\"reservation_status_date\", inplace=True)"
   ]
  },
  {
   "cell_type": "code",
   "execution_count": 13,
   "metadata": {},
   "outputs": [
    {
     "name": "stdout",
     "output_type": "stream",
     "text": [
      "hotel                              0.000000\n",
      "lead_time                          0.000000\n",
      "arrival_date_year                  0.000000\n",
      "arrival_date_month                 0.000000\n",
      "arrival_date_week_number           0.000000\n",
      "arrival_date_day_of_month          0.000000\n",
      "stays_in_weekend_nights            0.000000\n",
      "stays_in_week_nights               0.000000\n",
      "adults                             0.000000\n",
      "children                           0.000000\n",
      "babies                             0.000000\n",
      "meal                               0.000000\n",
      "country                            0.358018\n",
      "market_segment                     0.000000\n",
      "distribution_channel               0.000000\n",
      "is_repeated_guest                  0.000000\n",
      "previous_cancellations             0.000000\n",
      "previous_bookings_not_canceled     0.000000\n",
      "reserved_room_type                 0.000000\n",
      "assigned_room_type                 0.000000\n",
      "booking_changes                    0.000000\n",
      "deposit_type                       0.000000\n",
      "agent                             12.673827\n",
      "company                           95.036744\n",
      "days_in_waiting_list               0.000000\n",
      "customer_type                      0.000000\n",
      "adr                                0.000000\n",
      "required_car_parking_spaces        0.000000\n",
      "total_of_special_requests          0.000000\n",
      "id                                 0.000000\n",
      "dtype: float64\n"
     ]
    }
   ],
   "source": [
    "filas_totales=ds_hotels_test.shape[0]\n",
    "print(ds_h_test.isna().sum()/filas_totales*100)"
   ]
  },
  {
   "cell_type": "code",
   "execution_count": 14,
   "metadata": {},
   "outputs": [],
   "source": [
    "ds_h_test.drop(columns= 'company', inplace = True)"
   ]
  },
  {
   "cell_type": "code",
   "execution_count": 15,
   "metadata": {},
   "outputs": [
    {
     "data": {
      "text/plain": [
       "hotel                               0\n",
       "lead_time                           0\n",
       "arrival_date_year                   0\n",
       "arrival_date_month                  0\n",
       "arrival_date_week_number            0\n",
       "arrival_date_day_of_month           0\n",
       "stays_in_weekend_nights             0\n",
       "stays_in_week_nights                0\n",
       "adults                              0\n",
       "children                            0\n",
       "babies                              0\n",
       "meal                              238\n",
       "country                             0\n",
       "market_segment                      0\n",
       "distribution_channel                0\n",
       "is_repeated_guest                   0\n",
       "previous_cancellations              0\n",
       "previous_bookings_not_canceled      0\n",
       "reserved_room_type                  0\n",
       "assigned_room_type                  0\n",
       "booking_changes                     0\n",
       "deposit_type                        0\n",
       "agent                               0\n",
       "days_in_waiting_list                0\n",
       "customer_type                       0\n",
       "adr                                 0\n",
       "required_car_parking_spaces         0\n",
       "total_of_special_requests           0\n",
       "id                                  0\n",
       "dtype: int64"
      ]
     },
     "execution_count": 15,
     "metadata": {},
     "output_type": "execute_result"
    }
   ],
   "source": [
    "ds_h_test.isin(['Undefined']).sum()"
   ]
  },
  {
   "cell_type": "code",
   "execution_count": 16,
   "metadata": {},
   "outputs": [
    {
     "data": {
      "text/html": [
       "<div>\n",
       "<style scoped>\n",
       "    .dataframe tbody tr th:only-of-type {\n",
       "        vertical-align: middle;\n",
       "    }\n",
       "\n",
       "    .dataframe tbody tr th {\n",
       "        vertical-align: top;\n",
       "    }\n",
       "\n",
       "    .dataframe thead th {\n",
       "        text-align: right;\n",
       "    }\n",
       "</style>\n",
       "<table border=\"1\" class=\"dataframe\">\n",
       "  <thead>\n",
       "    <tr style=\"text-align: right;\">\n",
       "      <th></th>\n",
       "      <th>lead_time</th>\n",
       "      <th>arrival_date_year</th>\n",
       "      <th>arrival_date_week_number</th>\n",
       "      <th>arrival_date_day_of_month</th>\n",
       "      <th>stays_in_weekend_nights</th>\n",
       "      <th>stays_in_week_nights</th>\n",
       "      <th>adults</th>\n",
       "      <th>children</th>\n",
       "      <th>babies</th>\n",
       "      <th>is_repeated_guest</th>\n",
       "      <th>...</th>\n",
       "      <th>agent_495.0</th>\n",
       "      <th>agent_502.0</th>\n",
       "      <th>agent_508.0</th>\n",
       "      <th>agent_510.0</th>\n",
       "      <th>agent_526.0</th>\n",
       "      <th>agent_527.0</th>\n",
       "      <th>agent_531.0</th>\n",
       "      <th>customer_type_Group</th>\n",
       "      <th>customer_type_Transient</th>\n",
       "      <th>customer_type_Transient-Party</th>\n",
       "    </tr>\n",
       "  </thead>\n",
       "  <tbody>\n",
       "    <tr>\n",
       "      <th>0</th>\n",
       "      <td>277</td>\n",
       "      <td>2016</td>\n",
       "      <td>46</td>\n",
       "      <td>7</td>\n",
       "      <td>1</td>\n",
       "      <td>2</td>\n",
       "      <td>2</td>\n",
       "      <td>0.0</td>\n",
       "      <td>0</td>\n",
       "      <td>0</td>\n",
       "      <td>...</td>\n",
       "      <td>False</td>\n",
       "      <td>False</td>\n",
       "      <td>False</td>\n",
       "      <td>False</td>\n",
       "      <td>False</td>\n",
       "      <td>False</td>\n",
       "      <td>False</td>\n",
       "      <td>False</td>\n",
       "      <td>True</td>\n",
       "      <td>False</td>\n",
       "    </tr>\n",
       "    <tr>\n",
       "      <th>1</th>\n",
       "      <td>286</td>\n",
       "      <td>2016</td>\n",
       "      <td>20</td>\n",
       "      <td>11</td>\n",
       "      <td>0</td>\n",
       "      <td>4</td>\n",
       "      <td>2</td>\n",
       "      <td>0.0</td>\n",
       "      <td>0</td>\n",
       "      <td>0</td>\n",
       "      <td>...</td>\n",
       "      <td>False</td>\n",
       "      <td>False</td>\n",
       "      <td>False</td>\n",
       "      <td>False</td>\n",
       "      <td>False</td>\n",
       "      <td>False</td>\n",
       "      <td>False</td>\n",
       "      <td>False</td>\n",
       "      <td>False</td>\n",
       "      <td>True</td>\n",
       "    </tr>\n",
       "    <tr>\n",
       "      <th>2</th>\n",
       "      <td>0</td>\n",
       "      <td>2016</td>\n",
       "      <td>35</td>\n",
       "      <td>23</td>\n",
       "      <td>0</td>\n",
       "      <td>1</td>\n",
       "      <td>3</td>\n",
       "      <td>0.0</td>\n",
       "      <td>0</td>\n",
       "      <td>0</td>\n",
       "      <td>...</td>\n",
       "      <td>False</td>\n",
       "      <td>False</td>\n",
       "      <td>False</td>\n",
       "      <td>False</td>\n",
       "      <td>False</td>\n",
       "      <td>False</td>\n",
       "      <td>False</td>\n",
       "      <td>False</td>\n",
       "      <td>True</td>\n",
       "      <td>False</td>\n",
       "    </tr>\n",
       "    <tr>\n",
       "      <th>3</th>\n",
       "      <td>196</td>\n",
       "      <td>2016</td>\n",
       "      <td>44</td>\n",
       "      <td>29</td>\n",
       "      <td>2</td>\n",
       "      <td>5</td>\n",
       "      <td>2</td>\n",
       "      <td>2.0</td>\n",
       "      <td>0</td>\n",
       "      <td>0</td>\n",
       "      <td>...</td>\n",
       "      <td>False</td>\n",
       "      <td>False</td>\n",
       "      <td>False</td>\n",
       "      <td>False</td>\n",
       "      <td>False</td>\n",
       "      <td>False</td>\n",
       "      <td>False</td>\n",
       "      <td>False</td>\n",
       "      <td>True</td>\n",
       "      <td>False</td>\n",
       "    </tr>\n",
       "    <tr>\n",
       "      <th>4</th>\n",
       "      <td>232</td>\n",
       "      <td>2016</td>\n",
       "      <td>48</td>\n",
       "      <td>26</td>\n",
       "      <td>2</td>\n",
       "      <td>1</td>\n",
       "      <td>2</td>\n",
       "      <td>0.0</td>\n",
       "      <td>0</td>\n",
       "      <td>0</td>\n",
       "      <td>...</td>\n",
       "      <td>False</td>\n",
       "      <td>False</td>\n",
       "      <td>False</td>\n",
       "      <td>False</td>\n",
       "      <td>False</td>\n",
       "      <td>False</td>\n",
       "      <td>False</td>\n",
       "      <td>False</td>\n",
       "      <td>True</td>\n",
       "      <td>False</td>\n",
       "    </tr>\n",
       "  </tbody>\n",
       "</table>\n",
       "<p>5 rows × 461 columns</p>\n",
       "</div>"
      ],
      "text/plain": [
       "   lead_time  arrival_date_year  arrival_date_week_number   \n",
       "0        277               2016                        46  \\\n",
       "1        286               2016                        20   \n",
       "2          0               2016                        35   \n",
       "3        196               2016                        44   \n",
       "4        232               2016                        48   \n",
       "\n",
       "   arrival_date_day_of_month  stays_in_weekend_nights  stays_in_week_nights   \n",
       "0                          7                        1                     2  \\\n",
       "1                         11                        0                     4   \n",
       "2                         23                        0                     1   \n",
       "3                         29                        2                     5   \n",
       "4                         26                        2                     1   \n",
       "\n",
       "   adults  children  babies  is_repeated_guest  ...  agent_495.0  agent_502.0   \n",
       "0       2       0.0       0                  0  ...        False        False  \\\n",
       "1       2       0.0       0                  0  ...        False        False   \n",
       "2       3       0.0       0                  0  ...        False        False   \n",
       "3       2       2.0       0                  0  ...        False        False   \n",
       "4       2       0.0       0                  0  ...        False        False   \n",
       "\n",
       "   agent_508.0  agent_510.0  agent_526.0  agent_527.0  agent_531.0   \n",
       "0        False        False        False        False        False  \\\n",
       "1        False        False        False        False        False   \n",
       "2        False        False        False        False        False   \n",
       "3        False        False        False        False        False   \n",
       "4        False        False        False        False        False   \n",
       "\n",
       "  customer_type_Group  customer_type_Transient  customer_type_Transient-Party  \n",
       "0               False                     True                          False  \n",
       "1               False                    False                           True  \n",
       "2               False                     True                          False  \n",
       "3               False                     True                          False  \n",
       "4               False                     True                          False  \n",
       "\n",
       "[5 rows x 461 columns]"
      ]
     },
     "execution_count": 16,
     "metadata": {},
     "output_type": "execute_result"
    }
   ],
   "source": [
    "#One hot encoding para variables categoricas\n",
    "var_cual = [\"hotel\", \"arrival_date_month\", \"meal\", \"country\", \"market_segment\", \n",
    "\"distribution_channel\", \"reserved_room_type\", \"assigned_room_type\", \"deposit_type\", \"agent\", \n",
    "\"customer_type\"]\n",
    "ds_h_test = pd.get_dummies(ds_h_test, columns=var_cual, drop_first=True)\n",
    "\n",
    "ds_h_test.head()"
   ]
  },
  {
   "cell_type": "code",
   "execution_count": 17,
   "metadata": {},
   "outputs": [
    {
     "name": "stdout",
     "output_type": "stream",
     "text": [
      "lead_time                        0.0\n",
      "arrival_date_year                0.0\n",
      "arrival_date_week_number         0.0\n",
      "arrival_date_day_of_month        0.0\n",
      "stays_in_weekend_nights          0.0\n",
      "                                ... \n",
      "agent_527.0                      0.0\n",
      "agent_531.0                      0.0\n",
      "customer_type_Group              0.0\n",
      "customer_type_Transient          0.0\n",
      "customer_type_Transient-Party    0.0\n",
      "Length: 461, dtype: float64\n"
     ]
    }
   ],
   "source": [
    "print(ds_h_test.isna().sum()/filas_totales*100)"
   ]
  },
  {
   "attachments": {},
   "cell_type": "markdown",
   "metadata": {},
   "source": [
    "Para poder hacer el predict saco las columnas nuevas que me quedaron en el encoding y agrego las que tenia en el dataframe con el cual entrene al arbol que uso e inicializandolas en _false_"
   ]
  },
  {
   "cell_type": "code",
   "execution_count": 18,
   "metadata": {},
   "outputs": [],
   "source": [
    "# Agarramos las columnas diferentes de ds\n",
    "diff_cols_df2 = set(ds.columns) - set(ds_h_test.columns)\n",
    "\n",
    "# Agrego las columnas faltantes en ds_h_test y las inicializo en false\n",
    "for col in diff_cols_df2:\n",
    "    ds_h_test[col] = np.False_\n",
    "\n",
    "# Solo me quedo con las columnas de ds_h_test que esten en ds\n",
    "df_test = ds_h_test[ds.columns]"
   ]
  },
  {
   "cell_type": "code",
   "execution_count": 19,
   "metadata": {},
   "outputs": [
    {
     "name": "stderr",
     "output_type": "stream",
     "text": [
      "C:\\Users\\LUCAS\\AppData\\Local\\Temp\\ipykernel_16428\\2483917292.py:1: SettingWithCopyWarning: \n",
      "A value is trying to be set on a copy of a slice from a DataFrame\n",
      "\n",
      "See the caveats in the documentation: https://pandas.pydata.org/pandas-docs/stable/user_guide/indexing.html#returning-a-view-versus-a-copy\n",
      "  ds_kag = df_test.drop([\"is_canceled\"], axis=\"columns\", inplace=True)\n"
     ]
    }
   ],
   "source": [
    "ds_kag = df_test.drop([\"is_canceled\"], axis=\"columns\", inplace=True)"
   ]
  },
  {
   "attachments": {},
   "cell_type": "markdown",
   "metadata": {},
   "source": [
    "Utilizo Pipeline para reemplazar datos nulls con la mediana encontrada en ds para cada valor"
   ]
  },
  {
   "cell_type": "code",
   "execution_count": 20,
   "metadata": {},
   "outputs": [
    {
     "name": "stderr",
     "output_type": "stream",
     "text": [
      "C:\\Users\\LUCAS\\AppData\\Local\\Temp\\ipykernel_16428\\3663599621.py:16: SettingWithCopyWarning: \n",
      "A value is trying to be set on a copy of a slice from a DataFrame.\n",
      "Try using .loc[row_indexer,col_indexer] = value instead\n",
      "\n",
      "See the caveats in the documentation: https://pandas.pydata.org/pandas-docs/stable/user_guide/indexing.html#returning-a-view-versus-a-copy\n",
      "  df_test[cols_ds_h_test] = pipeline.transform(df_test[cols_ds_h_test])\n"
     ]
    }
   ],
   "source": [
    "from sklearn.pipeline import Pipeline\n",
    "from sklearn.impute import SimpleImputer\n",
    "\n",
    "imputer = SimpleImputer(strategy=\"median\")\n",
    "pipeline = Pipeline([  ('imputer', imputer)])\n",
    "pipeline.fit(ds)\n",
    "\n",
    "# Obtener lista de columnas de ds\n",
    "cols_ds = ds.columns\n",
    "\n",
    "# Seleccionar solo las columnas presentes en ds en ds_h_test\n",
    "cols_ds_h_test = [col for col in df_test.columns if col in cols_ds]\n",
    "\n",
    "# Aplicar pipeline solo a las columnas presentes en ambos dataframes\n",
    "pipeline.fit(ds[cols_ds_h_test])\n",
    "df_test[cols_ds_h_test] = pipeline.transform(df_test[cols_ds_h_test])"
   ]
  },
  {
   "attachments": {},
   "cell_type": "markdown",
   "metadata": {},
   "source": [
    "#### Hacemos el Predict para Kaggle de SVM con kernel Radial"
   ]
  },
  {
   "cell_type": "code",
   "execution_count": 21,
   "metadata": {},
   "outputs": [],
   "source": [
    "y_pred_svm_radial=clf.predict(df_test)"
   ]
  },
  {
   "cell_type": "code",
   "execution_count": 22,
   "metadata": {},
   "outputs": [],
   "source": [
    "ds_kaggle = pd.DataFrame({'id': ds_h_test['id'], 'is_canceled': y_pred_svm_radial})"
   ]
  },
  {
   "cell_type": "code",
   "execution_count": 23,
   "metadata": {},
   "outputs": [],
   "source": [
    "ds_kaggle.to_csv('pred_kaggle_svm_radial.csv', index=False)"
   ]
  },
  {
   "attachments": {},
   "cell_type": "markdown",
   "metadata": {},
   "source": [
    "Guardamos SVM con kernel Radial"
   ]
  },
  {
   "cell_type": "code",
   "execution_count": null,
   "metadata": {},
   "outputs": [
    {
     "data": {
      "text/plain": [
       "['svm_radial.sav']"
      ]
     },
     "metadata": {},
     "output_type": "display_data"
    }
   ],
   "source": [
    "# Guardar\n",
    "import joblib\n",
    "filename = 'svm_radial.sav'\n",
    "joblib.dump(clf, filename)"
   ]
  },
  {
   "attachments": {},
   "cell_type": "markdown",
   "metadata": {},
   "source": [
    "#### Hacemos el Predict para Kaggle de SVM con kernel Lineal"
   ]
  },
  {
   "cell_type": "code",
   "execution_count": 33,
   "metadata": {},
   "outputs": [],
   "source": [
    "y_pred_svm_lineal=clf_svm_lineal.predict(df_test)"
   ]
  },
  {
   "cell_type": "code",
   "execution_count": 34,
   "metadata": {},
   "outputs": [],
   "source": [
    "ds_kaggle_svm_lineal = pd.DataFrame({'id': ds_h_test['id'], 'is_canceled': y_pred_svm_lineal})"
   ]
  },
  {
   "cell_type": "code",
   "execution_count": 35,
   "metadata": {},
   "outputs": [],
   "source": [
    "ds_kaggle_svm_lineal.to_csv('pred_kaggle_svm_lineal.csv', index=False)"
   ]
  },
  {
   "attachments": {},
   "cell_type": "markdown",
   "metadata": {},
   "source": [
    "#### Hacemos el Predict para Kaggle de SVM con kernel Polinomico"
   ]
  },
  {
   "cell_type": "code",
   "execution_count": null,
   "metadata": {},
   "outputs": [],
   "source": [
    "y_pred_svm_polinomico=svm_polinomico.predict(df_test)"
   ]
  },
  {
   "cell_type": "code",
   "execution_count": null,
   "metadata": {},
   "outputs": [],
   "source": [
    "ds_kaggle_svm_polinomico = pd.DataFrame({'id': ds_h_test['id'], 'is_canceled': y_pred_svm_polinomico})"
   ]
  },
  {
   "cell_type": "code",
   "execution_count": null,
   "metadata": {},
   "outputs": [],
   "source": [
    "ds_kaggle_svm_polinomico.to_csv('pred_kaggle_svm_polinomico.csv', index=False)"
   ]
  }
 ],
 "metadata": {
  "kernelspec": {
   "display_name": "Python 3",
   "language": "python",
   "name": "python3"
  },
  "language_info": {
   "codemirror_mode": {
    "name": "ipython",
    "version": 3
   },
   "file_extension": ".py",
   "mimetype": "text/x-python",
   "name": "python",
   "nbconvert_exporter": "python",
   "pygments_lexer": "ipython3",
   "version": "3.10.0"
  },
  "orig_nbformat": 4
 },
 "nbformat": 4,
 "nbformat_minor": 2
}
