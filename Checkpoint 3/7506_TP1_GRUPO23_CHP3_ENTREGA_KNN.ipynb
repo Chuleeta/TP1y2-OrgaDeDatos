{
  "cells": [
    {
      "cell_type": "markdown",
      "source": [
        "# Importacion de Datos y librerias"
      ],
      "metadata": {
        "id": "oGDzd8EXwFGD"
      }
    },
    {
      "cell_type": "code",
      "source": [
        "import numpy as np\n",
        "import pandas as pd\n",
        "\n",
        "import matplotlib.pyplot as plt\n",
        "import seaborn as sns\n",
        "\n",
        "from sklearn.metrics import precision_score, recall_score, accuracy_score,f1_score\n",
        "from sklearn.metrics import confusion_matrix\n",
        "from sklearn.model_selection import train_test_split\n",
        "from sklearn.neighbors import KNeighborsClassifier\n",
        "from sklearn.model_selection import RandomizedSearchCV, StratifiedKFold\n",
        "\n",
        "ds_hotels = pd.read_csv(\"./hotels_modificado_train.csv\")\n",
        "ds_h = ds_hotels.copy()\n",
        "ds_h[\"agent\"] = ds_h[\"agent\"].apply(str)\n",
        "ds = ds_h.drop([\"id\"], axis=\"columns\", inplace=False)"
      ],
      "metadata": {
        "id": "qZsp6hIW_pfs"
      },
      "execution_count": 1,
      "outputs": []
    },
    {
      "cell_type": "markdown",
      "source": [
        "# Clasificador KNN"
      ],
      "metadata": {
        "id": "q74Tzqudjm4G"
      }
    },
    {
      "cell_type": "code",
      "source": [
        "var_cual = [\"hotel\", \"arrival_date_month\", \"meal\", \"country\", \"market_segment\", \n",
        "\"distribution_channel\", \"reserved_room_type\", \"assigned_room_type\", \"deposit_type\", \"agent\", \n",
        "\"customer_type\"]\n",
        "\n",
        "ds = pd.get_dummies(ds, columns=var_cual, drop_first=True)\n",
        "ds_x=ds.drop(['is_canceled'], axis='columns', inplace=False)\n",
        "ds_y = ds['is_canceled'].copy()\n",
        "\n",
        "x_train, x_test, y_train, y_test = train_test_split(ds_x,\n",
        "                                                    ds_y, \n",
        "                                                    test_size=0.25,  \n",
        "                                                    random_state=4, \n",
        "                                                    stratify=ds[\"is_canceled\"].values) \n",
        "\n",
        "KNN_Classifier = KNeighborsClassifier()\n",
        "KNN_Classifier.fit(x_train, y_train)\n",
        "y_pred = KNN_Classifier.predict(x_test)"
      ],
      "metadata": {
        "id": "AHwrIyOVjwRH"
      },
      "execution_count": 2,
      "outputs": []
    },
    {
      "cell_type": "code",
      "source": [
        "def visualizar_predicciones(test,prediccion):\n",
        "  tabla=confusion_matrix(y_test, y_pred)\n",
        "  \n",
        "  #Grafico la matriz de confusión\n",
        "  sns.heatmap(tabla,cmap='GnBu',annot=True,fmt='g')\n",
        "  plt.xlabel('Predicted')\n",
        "  plt.ylabel('True')\n",
        "  \n",
        "  accuracy=accuracy_score(test,prediccion)\n",
        "  recall=recall_score(test,prediccion)\n",
        "  f1=f1_score(test,prediccion)\n",
        "  precision=precision_score(test,prediccion)\n",
        "  print(\"Accuracy: \"+str(accuracy))\n",
        "  print(\"Recall: \"+str(recall))\n",
        "  print(\"Precision: \"+str(precision))\n",
        "  print(\"f1 score: \"+str(f1))\n"
      ],
      "metadata": {
        "id": "xsFLczR2Q8B1"
      },
      "execution_count": 3,
      "outputs": []
    },
    {
      "cell_type": "code",
      "source": [
        "visualizar_predicciones(y_test, y_pred)"
      ],
      "metadata": {
        "colab": {
          "base_uri": "https://localhost:8080/",
          "height": 518
        },
        "id": "hf_6DU3s-jDh",
        "outputId": "22f7faf6-7481-464d-a1cc-19d2a2fd0cfe"
      },
      "execution_count": 4,
      "outputs": [
        {
          "output_type": "stream",
          "name": "stdout",
          "text": [
            "Accuracy: 0.6368008550053438\n",
            "Recall: 0.48377445339470654\n",
            "Precision: 0.5339090678181356\n",
            "f1 score: 0.5076068582468003\n"
          ]
        },
        {
          "output_type": "display_data",
          "data": {
            "text/plain": [
              "<Figure size 640x480 with 2 Axes>"
            ],
            "image/png": "[encoded data removed]"
          },
          "metadata": {}
        }
      ]
    },
    {
      "cell_type": "markdown",
      "source": [
        "## Busqueda de parametros de KNN Clasificacion\n",
        "\n"
      ],
      "metadata": {
        "id": "Ax-pkEntcGq6"
      }
    },
    {
      "cell_type": "code",
      "source": [
        "#Grilla de Parámetros\n",
        "params_grid={ 'n_neighbors':range(1,30), \n",
        "              'weights':['distance','uniform'],\n",
        "              'algorithm':['ball_tree', 'kd_tree', 'brute'],\n",
        "              'metric':['euclidean','manhattan','chebyshev']\n",
        "             }\n",
        "\n",
        "#Clasificador KNN\n",
        "knn=KNeighborsClassifier()\n",
        "\n",
        "#Random Search con 10 Folds y 10 iteraciones\n",
        "rand = RandomizedSearchCV(knn, params_grid, cv=10, scoring='accuracy', n_iter=10, random_state=5)\n",
        "\n",
        "#Predicción con mejor estimador\n",
        "rand.fit(x_train, y_train)\n",
        "mejor_knn = rand.best_estimator_\n",
        "y_pred = mejor_knn.predict(x_test)"
      ],
      "metadata": {
        "id": "5pylIYr9cXH0"
      },
      "execution_count": 5,
      "outputs": []
    },
    {
      "cell_type": "code",
      "source": [
        "visualizar_predicciones(y_test, y_pred)"
      ],
      "metadata": {
        "id": "AgWE_rqL2AKM",
        "outputId": "17c82a3d-dfea-41b8-9be5-34602b7e6e53",
        "colab": {
          "base_uri": "https://localhost:8080/",
          "height": 518
        }
      },
      "execution_count": 6,
      "outputs": [
        {
          "output_type": "stream",
          "name": "stdout",
          "text": [
            "Accuracy: 0.6912183826148913\n",
            "Recall: 0.5967779056386652\n",
            "Precision: 0.6019034354688951\n",
            "f1 score: 0.59932971223853\n"
          ]
        },
        {
          "output_type": "display_data",
          "data": {
            "text/plain": [
              "<Figure size 640x480 with 2 Axes>"
            ],
            "image/png": "[encoded data removed]"
          },
          "metadata": {}
        }
      ]
    },
    {
      "cell_type": "markdown",
      "source": [
        "## Mejores hiperparametros para el la prediccion de KNN de clasificacion"
      ],
      "metadata": {
        "id": "SKZfr6HCCqmg"
      }
    },
    {
      "cell_type": "code",
      "source": [
        "#Grilla de Parámetros\n",
        "params_grid={ 'n_neighbors':range(1,50), \n",
        "              'weights':['distance','uniform'],\n",
        "              'algorithm':['ball_tree', 'kd_tree', 'brute'],\n",
        "              'metric':['euclidean','manhattan','chebyshev']\n",
        "             }\n",
        "\n",
        "#Clasificador KNN\n",
        "knn=KNeighborsClassifier()\n",
        "\n",
        "rand = RandomizedSearchCV(knn, params_grid, cv=5, scoring='accuracy', n_iter=5, random_state=2)\n",
        "\n",
        "#Predicción con mejor estimador\n",
        "rand.fit(x_train, y_train)\n",
        "mejor_knn = KNeighborsClassifier().set_params(**rand.best_params_)\n",
        "mejor_knn.fit(x_train, y_train)\n",
        "y_pred = mejor_knn.predict(x_test)"
      ],
      "metadata": {
        "id": "9CCGonbDC97Z"
      },
      "execution_count": 7,
      "outputs": []
    },
    {
      "cell_type": "code",
      "source": [
        "visualizar_predicciones(y_test,y_pred)"
      ],
      "metadata": {
        "colab": {
          "base_uri": "https://localhost:8080/",
          "height": 518
        },
        "id": "7SyTvk0npKnG",
        "outputId": "27b7285a-8b68-4e31-a46a-eb5597c5f8f4"
      },
      "execution_count": 8,
      "outputs": [
        {
          "output_type": "stream",
          "name": "stdout",
          "text": [
            "Accuracy: 0.6962949768436053\n",
            "Recall: 0.5891829689298044\n",
            "Precision: 0.6117084826762246\n",
            "f1 score: 0.6002344665885111\n"
          ]
        },
        {
          "output_type": "display_data",
          "data": {
            "text/plain": [
              "<Figure size 640x480 with 2 Axes>"
            ],
            "image/png": "[encoded data removed]"
          },
          "metadata": {}
        }
      ]
    },
    {
      "cell_type": "markdown",
      "source": [
        "Tiene el mejor f1_score, el mejor accuracy y el mejor precision"
      ],
      "metadata": {
        "id": "i45jh3BapxDX"
      }
    },
    {
      "cell_type": "markdown",
      "source": [
        "## Predict de Kaglee con KNN clasicacion"
      ],
      "metadata": {
        "id": "J3M8-xVJzLG4"
      }
    },
    {
      "cell_type": "code",
      "source": [
        "ds_hotels_test = pd.read_csv(\"./hotels_test.csv\")\n",
        "ds_h_test = ds_hotels_test.copy()\n",
        "ds_h_test.drop(columns=\"reservation_status_date\", inplace=True)\n",
        "ds_h_test.drop(columns= 'company', inplace = True)\n",
        "\n",
        "#One hot encoding para variables categoricas\n",
        "var_cual = [\"hotel\", \"arrival_date_month\", \"meal\", \"country\", \"market_segment\", \n",
        "\"distribution_channel\", \"reserved_room_type\", \"assigned_room_type\", \"deposit_type\", \"agent\", \n",
        "\"customer_type\"]\n",
        "ds_h_test = pd.get_dummies(ds_h_test, columns=var_cual, drop_first=True)\n",
        "\n",
        "# Agarramos las columnas diferentes de ds\n",
        "diff_cols_df2 = set(ds.columns) - set(ds_h_test.columns)\n",
        "\n",
        "# Agrego las columnas faltantes en ds_h_test y las inicializo en false\n",
        "for col in diff_cols_df2:\n",
        "    ds_h_test[col] = np.False_\n",
        "\n",
        "# Solo me quedo con las columnas de ds_h_test que esten en ds\n",
        "df_test = ds_h_test[ds.columns]\n",
        "\n",
        "ds_kag = df_test.drop([\"is_canceled\"], axis=\"columns\", inplace=True)\n",
        "\n",
        "from sklearn.pipeline import Pipeline\n",
        "from sklearn.impute import SimpleImputer\n",
        "\n",
        "imputer = SimpleImputer(strategy=\"median\")\n",
        "pipeline = Pipeline([  ('imputer', imputer)])\n",
        "pipeline.fit(ds)\n",
        "#ds_copiado = ds_h_test.drop(columns=\"id\", inplace=True)\n",
        "#ds_h_test = pipeline.transform(ds_h_test)\n",
        "\n",
        "# Obtener lista de columnas de ds\n",
        "cols_ds = ds.columns\n",
        "\n",
        "# Seleccionar solo las columnas presentes en ds en ds_h_test\n",
        "cols_ds_h_test = [col for col in df_test.columns if col in cols_ds]\n",
        "\n",
        "# Aplicar pipeline solo a las columnas presentes en ambos dataframes\n",
        "pipeline.fit(ds[cols_ds_h_test])\n",
        "df_test[cols_ds_h_test] = pipeline.transform(df_test[cols_ds_h_test])\n",
        "\n",
        "y_pred_kaggle = mejor_knn.predict(df_test)\n",
        "\n",
        "ds_kaggle = pd.DataFrame({'id': ds_h_test['id'], 'is_canceled': y_pred_kaggle})\n",
        "print(ds_kaggle.shape)\n",
        "ds_kaggle.to_csv('pred_kaggle.csv', index=False)"
      ],
      "metadata": {
        "colab": {
          "base_uri": "https://localhost:8080/"
        },
        "id": "Vm3duFMazZ5I",
        "outputId": "1a5c4261-ffe5-4b2c-b6e5-d88957803f56"
      },
      "execution_count": 10,
      "outputs": [
        {
          "output_type": "stream",
          "name": "stderr",
          "text": [
            "<ipython-input-10-ef526e61201c>:22: SettingWithCopyWarning: \n",
            "A value is trying to be set on a copy of a slice from a DataFrame\n",
            "\n",
            "See the caveats in the documentation: https://pandas.pydata.org/pandas-docs/stable/user_guide/indexing.html#returning-a-view-versus-a-copy\n",
            "  ds_kag = df_test.drop([\"is_canceled\"], axis=\"columns\", inplace=True)\n",
            "<ipython-input-10-ef526e61201c>:41: SettingWithCopyWarning: \n",
            "A value is trying to be set on a copy of a slice from a DataFrame.\n",
            "Try using .loc[row_indexer,col_indexer] = value instead\n",
            "\n",
            "See the caveats in the documentation: https://pandas.pydata.org/pandas-docs/stable/user_guide/indexing.html#returning-a-view-versus-a-copy\n",
            "  df_test[cols_ds_h_test] = pipeline.transform(df_test[cols_ds_h_test])\n"
          ]
        },
        {
          "output_type": "stream",
          "name": "stdout",
          "text": [
            "(26535, 2)\n"
          ]
        }
      ]
    },
    {
      "cell_type": "markdown",
      "source": [
        "## Guardar el modelo de KNN"
      ],
      "metadata": {
        "id": "JOpdP7kjxZk_"
      }
    },
    {
      "cell_type": "code",
      "source": [
        "mejor_knn.get_"
      ],
      "metadata": {
        "id": "nkeYQRwr8k2B"
      },
      "execution_count": null,
      "outputs": []
    },
    {
      "cell_type": "code",
      "source": [
        "import joblib\n",
        "filename = 'model_knn.sav'\n",
        "joblib.dump(rand, filename)"
      ],
      "metadata": {
        "id": "gtbctRJ0xxaH",
        "outputId": "f281ac83-ada5-41f5-c7ae-a9b1f0ddfe92",
        "colab": {
          "base_uri": "https://localhost:8080/"
        }
      },
      "execution_count": 12,
      "outputs": [
        {
          "output_type": "execute_result",
          "data": {
            "text/plain": [
              "['model_knn.sav']"
            ]
          },
          "metadata": {},
          "execution_count": 12
        }
      ]
    }
  ],
  "metadata": {
    "colab": {
      "provenance": [],
      "toc_visible": true
    },
    "kernelspec": {
      "display_name": "Python 3",
      "name": "python3"
    }
  },
  "nbformat": 4,
  "nbformat_minor": 0
}